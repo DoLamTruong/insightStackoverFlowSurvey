{
  "cells": [
    {
      "cell_type": "code",
      "execution_count": 1,
      "metadata": {
        "id": "0Ore5ObZCQka"
      },
      "outputs": [],
      "source": [
        "import pandas as pd\n",
        "import numpy as np\n",
        "import matplotlib.pyplot as plt\n",
        "from functools import reduce\n",
        "from collections import Counter\n",
        "import seaborn as sns"
      ]
    },
    {
      "cell_type": "code",
      "execution_count": 2,
      "metadata": {
        "id": "mD_0fPwlCQkc"
      },
      "outputs": [],
      "source": [
        "df=pd.read_csv('survey_results_public.csv')"
      ]
    },
    {
      "cell_type": "code",
      "execution_count": 3,
      "metadata": {
        "colab": {
          "base_uri": "https://localhost:8080/",
          "height": 594
        },
        "id": "49zZnL20CQkc",
        "outputId": "6fb1e6ac-958c-4b9d-b7cb-490056175dfd"
      },
      "outputs": [
        {
          "data": {
            "text/html": [
              "<div>\n",
              "<style scoped>\n",
              "    .dataframe tbody tr th:only-of-type {\n",
              "        vertical-align: middle;\n",
              "    }\n",
              "\n",
              "    .dataframe tbody tr th {\n",
              "        vertical-align: top;\n",
              "    }\n",
              "\n",
              "    .dataframe thead th {\n",
              "        text-align: right;\n",
              "    }\n",
              "</style>\n",
              "<table border=\"1\" class=\"dataframe\">\n",
              "  <thead>\n",
              "    <tr style=\"text-align: right;\">\n",
              "      <th></th>\n",
              "      <th>Respondent</th>\n",
              "      <th>Professional</th>\n",
              "      <th>ProgramHobby</th>\n",
              "      <th>Country</th>\n",
              "      <th>University</th>\n",
              "      <th>EmploymentStatus</th>\n",
              "      <th>FormalEducation</th>\n",
              "      <th>MajorUndergrad</th>\n",
              "      <th>HomeRemote</th>\n",
              "      <th>CompanySize</th>\n",
              "      <th>...</th>\n",
              "      <th>StackOverflowMakeMoney</th>\n",
              "      <th>Gender</th>\n",
              "      <th>HighestEducationParents</th>\n",
              "      <th>Race</th>\n",
              "      <th>SurveyLong</th>\n",
              "      <th>QuestionsInteresting</th>\n",
              "      <th>QuestionsConfusing</th>\n",
              "      <th>InterestedAnswers</th>\n",
              "      <th>Salary</th>\n",
              "      <th>ExpectedSalary</th>\n",
              "    </tr>\n",
              "  </thead>\n",
              "  <tbody>\n",
              "    <tr>\n",
              "      <th>0</th>\n",
              "      <td>1</td>\n",
              "      <td>Student</td>\n",
              "      <td>Yes, both</td>\n",
              "      <td>United States</td>\n",
              "      <td>No</td>\n",
              "      <td>Not employed, and not looking for work</td>\n",
              "      <td>Secondary school</td>\n",
              "      <td>NaN</td>\n",
              "      <td>NaN</td>\n",
              "      <td>NaN</td>\n",
              "      <td>...</td>\n",
              "      <td>Strongly disagree</td>\n",
              "      <td>Male</td>\n",
              "      <td>High school</td>\n",
              "      <td>White or of European descent</td>\n",
              "      <td>Strongly disagree</td>\n",
              "      <td>Strongly agree</td>\n",
              "      <td>Disagree</td>\n",
              "      <td>Strongly agree</td>\n",
              "      <td>NaN</td>\n",
              "      <td>NaN</td>\n",
              "    </tr>\n",
              "    <tr>\n",
              "      <th>1</th>\n",
              "      <td>2</td>\n",
              "      <td>Student</td>\n",
              "      <td>Yes, both</td>\n",
              "      <td>United Kingdom</td>\n",
              "      <td>Yes, full-time</td>\n",
              "      <td>Employed part-time</td>\n",
              "      <td>Some college/university study without earning ...</td>\n",
              "      <td>Computer science or software engineering</td>\n",
              "      <td>More than half, but not all, the time</td>\n",
              "      <td>20 to 99 employees</td>\n",
              "      <td>...</td>\n",
              "      <td>Strongly disagree</td>\n",
              "      <td>Male</td>\n",
              "      <td>A master's degree</td>\n",
              "      <td>White or of European descent</td>\n",
              "      <td>Somewhat agree</td>\n",
              "      <td>Somewhat agree</td>\n",
              "      <td>Disagree</td>\n",
              "      <td>Strongly agree</td>\n",
              "      <td>NaN</td>\n",
              "      <td>37500.0</td>\n",
              "    </tr>\n",
              "    <tr>\n",
              "      <th>2</th>\n",
              "      <td>3</td>\n",
              "      <td>Professional developer</td>\n",
              "      <td>Yes, both</td>\n",
              "      <td>United Kingdom</td>\n",
              "      <td>No</td>\n",
              "      <td>Employed full-time</td>\n",
              "      <td>Bachelor's degree</td>\n",
              "      <td>Computer science or software engineering</td>\n",
              "      <td>Less than half the time, but at least one day ...</td>\n",
              "      <td>10,000 or more employees</td>\n",
              "      <td>...</td>\n",
              "      <td>Disagree</td>\n",
              "      <td>Male</td>\n",
              "      <td>A professional degree</td>\n",
              "      <td>White or of European descent</td>\n",
              "      <td>Somewhat agree</td>\n",
              "      <td>Agree</td>\n",
              "      <td>Disagree</td>\n",
              "      <td>Agree</td>\n",
              "      <td>113750.0</td>\n",
              "      <td>NaN</td>\n",
              "    </tr>\n",
              "    <tr>\n",
              "      <th>3</th>\n",
              "      <td>4</td>\n",
              "      <td>Professional non-developer who sometimes write...</td>\n",
              "      <td>Yes, both</td>\n",
              "      <td>United States</td>\n",
              "      <td>No</td>\n",
              "      <td>Employed full-time</td>\n",
              "      <td>Doctoral degree</td>\n",
              "      <td>A non-computer-focused engineering discipline</td>\n",
              "      <td>Less than half the time, but at least one day ...</td>\n",
              "      <td>10,000 or more employees</td>\n",
              "      <td>...</td>\n",
              "      <td>Disagree</td>\n",
              "      <td>Male</td>\n",
              "      <td>A doctoral degree</td>\n",
              "      <td>White or of European descent</td>\n",
              "      <td>Agree</td>\n",
              "      <td>Agree</td>\n",
              "      <td>Somewhat agree</td>\n",
              "      <td>Strongly agree</td>\n",
              "      <td>NaN</td>\n",
              "      <td>NaN</td>\n",
              "    </tr>\n",
              "    <tr>\n",
              "      <th>4</th>\n",
              "      <td>5</td>\n",
              "      <td>Professional developer</td>\n",
              "      <td>Yes, I program as a hobby</td>\n",
              "      <td>Switzerland</td>\n",
              "      <td>No</td>\n",
              "      <td>Employed full-time</td>\n",
              "      <td>Master's degree</td>\n",
              "      <td>Computer science or software engineering</td>\n",
              "      <td>Never</td>\n",
              "      <td>10 to 19 employees</td>\n",
              "      <td>...</td>\n",
              "      <td>NaN</td>\n",
              "      <td>NaN</td>\n",
              "      <td>NaN</td>\n",
              "      <td>NaN</td>\n",
              "      <td>NaN</td>\n",
              "      <td>NaN</td>\n",
              "      <td>NaN</td>\n",
              "      <td>NaN</td>\n",
              "      <td>NaN</td>\n",
              "      <td>NaN</td>\n",
              "    </tr>\n",
              "  </tbody>\n",
              "</table>\n",
              "<p>5 rows × 154 columns</p>\n",
              "</div>"
            ],
            "text/plain": [
              "   Respondent                                       Professional  \\\n",
              "0           1                                            Student   \n",
              "1           2                                            Student   \n",
              "2           3                             Professional developer   \n",
              "3           4  Professional non-developer who sometimes write...   \n",
              "4           5                             Professional developer   \n",
              "\n",
              "                ProgramHobby         Country      University  \\\n",
              "0                  Yes, both   United States              No   \n",
              "1                  Yes, both  United Kingdom  Yes, full-time   \n",
              "2                  Yes, both  United Kingdom              No   \n",
              "3                  Yes, both   United States              No   \n",
              "4  Yes, I program as a hobby     Switzerland              No   \n",
              "\n",
              "                         EmploymentStatus  \\\n",
              "0  Not employed, and not looking for work   \n",
              "1                      Employed part-time   \n",
              "2                      Employed full-time   \n",
              "3                      Employed full-time   \n",
              "4                      Employed full-time   \n",
              "\n",
              "                                     FormalEducation  \\\n",
              "0                                   Secondary school   \n",
              "1  Some college/university study without earning ...   \n",
              "2                                  Bachelor's degree   \n",
              "3                                    Doctoral degree   \n",
              "4                                    Master's degree   \n",
              "\n",
              "                                  MajorUndergrad  \\\n",
              "0                                            NaN   \n",
              "1       Computer science or software engineering   \n",
              "2       Computer science or software engineering   \n",
              "3  A non-computer-focused engineering discipline   \n",
              "4       Computer science or software engineering   \n",
              "\n",
              "                                          HomeRemote  \\\n",
              "0                                                NaN   \n",
              "1              More than half, but not all, the time   \n",
              "2  Less than half the time, but at least one day ...   \n",
              "3  Less than half the time, but at least one day ...   \n",
              "4                                              Never   \n",
              "\n",
              "                CompanySize  ... StackOverflowMakeMoney Gender  \\\n",
              "0                       NaN  ...      Strongly disagree   Male   \n",
              "1        20 to 99 employees  ...      Strongly disagree   Male   \n",
              "2  10,000 or more employees  ...               Disagree   Male   \n",
              "3  10,000 or more employees  ...               Disagree   Male   \n",
              "4        10 to 19 employees  ...                    NaN    NaN   \n",
              "\n",
              "  HighestEducationParents                          Race         SurveyLong  \\\n",
              "0             High school  White or of European descent  Strongly disagree   \n",
              "1       A master's degree  White or of European descent     Somewhat agree   \n",
              "2   A professional degree  White or of European descent     Somewhat agree   \n",
              "3       A doctoral degree  White or of European descent              Agree   \n",
              "4                     NaN                           NaN                NaN   \n",
              "\n",
              "  QuestionsInteresting QuestionsConfusing InterestedAnswers    Salary  \\\n",
              "0       Strongly agree           Disagree    Strongly agree       NaN   \n",
              "1       Somewhat agree           Disagree    Strongly agree       NaN   \n",
              "2                Agree           Disagree             Agree  113750.0   \n",
              "3                Agree     Somewhat agree    Strongly agree       NaN   \n",
              "4                  NaN                NaN               NaN       NaN   \n",
              "\n",
              "   ExpectedSalary  \n",
              "0             NaN  \n",
              "1         37500.0  \n",
              "2             NaN  \n",
              "3             NaN  \n",
              "4             NaN  \n",
              "\n",
              "[5 rows x 154 columns]"
            ]
          },
          "execution_count": 3,
          "metadata": {},
          "output_type": "execute_result"
        }
      ],
      "source": [
        "df.head()"
      ]
    },
    {
      "cell_type": "code",
      "execution_count": 4,
      "metadata": {
        "colab": {
          "base_uri": "https://localhost:8080/",
          "height": 300
        },
        "id": "88tz0QxLCQkd",
        "outputId": "9f29a6cb-4434-48a0-96d4-ad9596b488e6"
      },
      "outputs": [
        {
          "data": {
            "text/html": [
              "<div>\n",
              "<style scoped>\n",
              "    .dataframe tbody tr th:only-of-type {\n",
              "        vertical-align: middle;\n",
              "    }\n",
              "\n",
              "    .dataframe tbody tr th {\n",
              "        vertical-align: top;\n",
              "    }\n",
              "\n",
              "    .dataframe thead th {\n",
              "        text-align: right;\n",
              "    }\n",
              "</style>\n",
              "<table border=\"1\" class=\"dataframe\">\n",
              "  <thead>\n",
              "    <tr style=\"text-align: right;\">\n",
              "      <th></th>\n",
              "      <th>Respondent</th>\n",
              "      <th>CareerSatisfaction</th>\n",
              "      <th>JobSatisfaction</th>\n",
              "      <th>HoursPerWeek</th>\n",
              "      <th>StackOverflowSatisfaction</th>\n",
              "      <th>Salary</th>\n",
              "      <th>ExpectedSalary</th>\n",
              "    </tr>\n",
              "  </thead>\n",
              "  <tbody>\n",
              "    <tr>\n",
              "      <th>count</th>\n",
              "      <td>51392.000000</td>\n",
              "      <td>42695.000000</td>\n",
              "      <td>40376.000000</td>\n",
              "      <td>20600.000000</td>\n",
              "      <td>36592.000000</td>\n",
              "      <td>12891.000000</td>\n",
              "      <td>2566.000000</td>\n",
              "    </tr>\n",
              "    <tr>\n",
              "      <th>mean</th>\n",
              "      <td>25696.500000</td>\n",
              "      <td>7.300574</td>\n",
              "      <td>6.957078</td>\n",
              "      <td>3.952282</td>\n",
              "      <td>8.429875</td>\n",
              "      <td>56298.480641</td>\n",
              "      <td>33142.220468</td>\n",
              "    </tr>\n",
              "    <tr>\n",
              "      <th>std</th>\n",
              "      <td>14835.736854</td>\n",
              "      <td>1.955444</td>\n",
              "      <td>2.167652</td>\n",
              "      <td>7.564722</td>\n",
              "      <td>1.390635</td>\n",
              "      <td>39880.905277</td>\n",
              "      <td>30162.988829</td>\n",
              "    </tr>\n",
              "    <tr>\n",
              "      <th>min</th>\n",
              "      <td>1.000000</td>\n",
              "      <td>0.000000</td>\n",
              "      <td>0.000000</td>\n",
              "      <td>0.000000</td>\n",
              "      <td>0.000000</td>\n",
              "      <td>0.000000</td>\n",
              "      <td>0.000000</td>\n",
              "    </tr>\n",
              "    <tr>\n",
              "      <th>25%</th>\n",
              "      <td>12848.750000</td>\n",
              "      <td>6.000000</td>\n",
              "      <td>6.000000</td>\n",
              "      <td>1.000000</td>\n",
              "      <td>8.000000</td>\n",
              "      <td>26440.371839</td>\n",
              "      <td>4490.492484</td>\n",
              "    </tr>\n",
              "    <tr>\n",
              "      <th>50%</th>\n",
              "      <td>25696.500000</td>\n",
              "      <td>8.000000</td>\n",
              "      <td>7.000000</td>\n",
              "      <td>1.000000</td>\n",
              "      <td>9.000000</td>\n",
              "      <td>50000.000000</td>\n",
              "      <td>29364.263691</td>\n",
              "    </tr>\n",
              "    <tr>\n",
              "      <th>75%</th>\n",
              "      <td>38544.250000</td>\n",
              "      <td>9.000000</td>\n",
              "      <td>8.000000</td>\n",
              "      <td>4.000000</td>\n",
              "      <td>10.000000</td>\n",
              "      <td>80000.000000</td>\n",
              "      <td>50403.225806</td>\n",
              "    </tr>\n",
              "    <tr>\n",
              "      <th>max</th>\n",
              "      <td>51392.000000</td>\n",
              "      <td>10.000000</td>\n",
              "      <td>10.000000</td>\n",
              "      <td>40.000000</td>\n",
              "      <td>10.000000</td>\n",
              "      <td>197000.000000</td>\n",
              "      <td>187500.000000</td>\n",
              "    </tr>\n",
              "  </tbody>\n",
              "</table>\n",
              "</div>"
            ],
            "text/plain": [
              "         Respondent  CareerSatisfaction  JobSatisfaction  HoursPerWeek  \\\n",
              "count  51392.000000        42695.000000     40376.000000  20600.000000   \n",
              "mean   25696.500000            7.300574         6.957078      3.952282   \n",
              "std    14835.736854            1.955444         2.167652      7.564722   \n",
              "min        1.000000            0.000000         0.000000      0.000000   \n",
              "25%    12848.750000            6.000000         6.000000      1.000000   \n",
              "50%    25696.500000            8.000000         7.000000      1.000000   \n",
              "75%    38544.250000            9.000000         8.000000      4.000000   \n",
              "max    51392.000000           10.000000        10.000000     40.000000   \n",
              "\n",
              "       StackOverflowSatisfaction         Salary  ExpectedSalary  \n",
              "count               36592.000000   12891.000000     2566.000000  \n",
              "mean                    8.429875   56298.480641    33142.220468  \n",
              "std                     1.390635   39880.905277    30162.988829  \n",
              "min                     0.000000       0.000000        0.000000  \n",
              "25%                     8.000000   26440.371839     4490.492484  \n",
              "50%                     9.000000   50000.000000    29364.263691  \n",
              "75%                    10.000000   80000.000000    50403.225806  \n",
              "max                    10.000000  197000.000000   187500.000000  "
            ]
          },
          "execution_count": 4,
          "metadata": {},
          "output_type": "execute_result"
        }
      ],
      "source": [
        "df.describe()"
      ]
    },
    {
      "cell_type": "code",
      "execution_count": 5,
      "metadata": {
        "colab": {
          "base_uri": "https://localhost:8080/"
        },
        "id": "bUcI1O2XCQkd",
        "outputId": "cc911b6a-0d56-4d94-dfab-c4fb91ebe24c"
      },
      "outputs": [
        {
          "name": "stdout",
          "output_type": "stream",
          "text": [
            "['Respondent', 'Professional', 'ProgramHobby', 'Country', 'University', 'EmploymentStatus', 'FormalEducation', 'MajorUndergrad', 'HomeRemote', 'CompanySize', 'CompanyType', 'YearsProgram', 'YearsCodedJob', 'YearsCodedJobPast', 'DeveloperType', 'WebDeveloperType', 'MobileDeveloperType', 'NonDeveloperType', 'CareerSatisfaction', 'JobSatisfaction', 'ExCoderReturn', 'ExCoderNotForMe', 'ExCoderBalance', 'ExCoder10Years', 'ExCoderBelonged', 'ExCoderSkills', 'ExCoderWillNotCode', 'ExCoderActive', 'PronounceGIF', 'ProblemSolving', 'BuildingThings', 'LearningNewTech', 'BoringDetails', 'JobSecurity', 'DiversityImportant', 'AnnoyingUI', 'FriendsDevelopers', 'RightWrongWay', 'UnderstandComputers', 'SeriousWork', 'InvestTimeTools', 'WorkPayCare', 'KinshipDevelopers', 'ChallengeMyself', 'CompetePeers', 'ChangeWorld', 'JobSeekingStatus', 'HoursPerWeek', 'LastNewJob', 'AssessJobIndustry', 'AssessJobRole', 'AssessJobExp', 'AssessJobDept', 'AssessJobTech', 'AssessJobProjects', 'AssessJobCompensation', 'AssessJobOffice', 'AssessJobCommute', 'AssessJobRemote', 'AssessJobLeaders', 'AssessJobProfDevel', 'AssessJobDiversity', 'AssessJobProduct', 'AssessJobFinances', 'ImportantBenefits', 'ClickyKeys', 'JobProfile', 'ResumePrompted', 'LearnedHiring', 'ImportantHiringAlgorithms', 'ImportantHiringTechExp', 'ImportantHiringCommunication', 'ImportantHiringOpenSource', 'ImportantHiringPMExp', 'ImportantHiringCompanies', 'ImportantHiringTitles', 'ImportantHiringEducation', 'ImportantHiringRep', 'ImportantHiringGettingThingsDone', 'Currency', 'Overpaid', 'TabsSpaces', 'EducationImportant', 'EducationTypes', 'SelfTaughtTypes', 'TimeAfterBootcamp', 'CousinEducation', 'WorkStart', 'HaveWorkedLanguage', 'WantWorkLanguage', 'HaveWorkedFramework', 'WantWorkFramework', 'HaveWorkedDatabase', 'WantWorkDatabase', 'HaveWorkedPlatform', 'WantWorkPlatform', 'IDE', 'AuditoryEnvironment', 'Methodology', 'VersionControl', 'CheckInCode', 'ShipIt', 'OtherPeoplesCode', 'ProjectManagement', 'EnjoyDebugging', 'InTheZone', 'DifficultCommunication', 'CollaborateRemote', 'MetricAssess', 'EquipmentSatisfiedMonitors', 'EquipmentSatisfiedCPU', 'EquipmentSatisfiedRAM', 'EquipmentSatisfiedStorage', 'EquipmentSatisfiedRW', 'InfluenceInternet', 'InfluenceWorkstation', 'InfluenceHardware', 'InfluenceServers', 'InfluenceTechStack', 'InfluenceDeptTech', 'InfluenceVizTools', 'InfluenceDatabase', 'InfluenceCloud', 'InfluenceConsultants', 'InfluenceRecruitment', 'InfluenceCommunication', 'StackOverflowDescribes', 'StackOverflowSatisfaction', 'StackOverflowDevices', 'StackOverflowFoundAnswer', 'StackOverflowCopiedCode', 'StackOverflowJobListing', 'StackOverflowCompanyPage', 'StackOverflowJobSearch', 'StackOverflowNewQuestion', 'StackOverflowAnswer', 'StackOverflowMetaChat', 'StackOverflowAdsRelevant', 'StackOverflowAdsDistracting', 'StackOverflowModeration', 'StackOverflowCommunity', 'StackOverflowHelpful', 'StackOverflowBetter', 'StackOverflowWhatDo', 'StackOverflowMakeMoney', 'Gender', 'HighestEducationParents', 'Race', 'SurveyLong', 'QuestionsInteresting', 'QuestionsConfusing', 'InterestedAnswers', 'Salary', 'ExpectedSalary']\n"
          ]
        }
      ],
      "source": [
        "print([i for i in df.columns])"
      ]
    },
    {
      "cell_type": "code",
      "execution_count": 6,
      "metadata": {
        "colab": {
          "base_uri": "https://localhost:8080/"
        },
        "id": "6njtWMJ6Jl9x",
        "outputId": "24020a38-15b4-4747-99c3-f1a6552aa21b"
      },
      "outputs": [
        {
          "data": {
            "text/plain": [
              "(51392, 154)"
            ]
          },
          "execution_count": 6,
          "metadata": {},
          "output_type": "execute_result"
        }
      ],
      "source": [
        "df.shape"
      ]
    },
    {
      "cell_type": "code",
      "execution_count": 7,
      "metadata": {
        "colab": {
          "base_uri": "https://localhost:8080/"
        },
        "id": "QV2UPjR-Jpqe",
        "outputId": "7039693a-4fa8-4e9e-ad47-267dbf157172"
      },
      "outputs": [
        {
          "data": {
            "text/plain": [
              "Respondent                  0\n",
              "Professional                0\n",
              "ProgramHobby                0\n",
              "Country                     0\n",
              "University                  0\n",
              "                        ...  \n",
              "QuestionsInteresting    16856\n",
              "QuestionsConfusing      16973\n",
              "InterestedAnswers       16780\n",
              "Salary                  38501\n",
              "ExpectedSalary          48826\n",
              "Length: 154, dtype: int64"
            ]
          },
          "execution_count": 7,
          "metadata": {},
          "output_type": "execute_result"
        }
      ],
      "source": [
        "df.isna().sum()"
      ]
    },
    {
      "cell_type": "code",
      "execution_count": 8,
      "metadata": {
        "id": "SIiEiOABjXqc"
      },
      "outputs": [],
      "source": [
        "df.fillna(method='ffill', inplace=True)\n",
        "df.fillna(method='bfill', inplace=True)"
      ]
    },
    {
      "cell_type": "code",
      "execution_count": 9,
      "metadata": {
        "colab": {
          "base_uri": "https://localhost:8080/"
        },
        "id": "hrlVexZnjYLT",
        "outputId": "89b883d5-9b16-469c-99ef-fa06d893e6b7"
      },
      "outputs": [
        {
          "data": {
            "text/plain": [
              "Respondent              0\n",
              "Professional            0\n",
              "ProgramHobby            0\n",
              "Country                 0\n",
              "University              0\n",
              "                       ..\n",
              "QuestionsInteresting    0\n",
              "QuestionsConfusing      0\n",
              "InterestedAnswers       0\n",
              "Salary                  0\n",
              "ExpectedSalary          0\n",
              "Length: 154, dtype: int64"
            ]
          },
          "execution_count": 9,
          "metadata": {},
          "output_type": "execute_result"
        }
      ],
      "source": [
        "df.isna().sum()"
      ]
    },
    {
      "cell_type": "code",
      "execution_count": 10,
      "metadata": {
        "colab": {
          "base_uri": "https://localhost:8080/"
        },
        "id": "tCMRg-2qCQke",
        "outputId": "897b3e90-890d-4a55-c1b6-9c99731329b6"
      },
      "outputs": [
        {
          "data": {
            "text/plain": [
              "WorkStart\n",
              "1:00 AM     35648.029362\n",
              "3:00 AM     43663.458509\n",
              "Midnight    47428.867055\n",
              "5:00 PM     48140.761773\n",
              "7:00 PM     50101.602694\n",
              "2:00 PM     50952.675934\n",
              "Noon        51087.662468\n",
              "6:00 PM     51156.943188\n",
              "3:00 PM     51865.277563\n",
              "11:00 AM    51902.400640\n",
              "1:00 PM     52122.551716\n",
              "10:00 PM    52203.181473\n",
              "2:00 AM     52900.065828\n",
              "4:00 AM     53110.151891\n",
              "9:00 PM     53125.286782\n",
              "11:00 PM    53280.267573\n",
              "4:00 PM     53304.008856\n",
              "8:00 AM     53496.128697\n",
              "8:00 PM     53974.284474\n",
              "9:00 AM     54427.492327\n",
              "6:00 AM     55132.836134\n",
              "10:00 AM    55845.405257\n",
              "7:00 AM     56731.862391\n",
              "5:00 AM     60035.576059\n",
              "Name: Salary, dtype: float64"
            ]
          },
          "execution_count": 10,
          "metadata": {},
          "output_type": "execute_result"
        }
      ],
      "source": [
        "df.groupby(['WorkStart'])['Salary'].mean().sort_values(ascending=True) "
      ]
    },
    {
      "cell_type": "code",
      "execution_count": 11,
      "metadata": {
        "colab": {
          "base_uri": "https://localhost:8080/",
          "height": 312
        },
        "id": "_t2bL6N_CQke",
        "outputId": "c0446ae0-1b41-4879-a422-5cfa86ffad5d"
      },
      "outputs": [
        {
          "data": {
            "text/plain": [
              "<AxesSubplot:title={'center':'WorkStart'}, xlabel='count', ylabel='WorkStart'>"
            ]
          },
          "execution_count": 11,
          "metadata": {},
          "output_type": "execute_result"
        },
        {
          "data": {
            "image/png": "[encoded data removed]",
            "text/plain": [
              "<Figure size 432x288 with 1 Axes>"
            ]
          },
          "metadata": {
            "needs_background": "light"
          },
          "output_type": "display_data"
        }
      ],
      "source": [
        "plt.title(\"WorkStart\")\n",
        "sns.countplot(data = df, y = 'WorkStart', order = df['WorkStart'].value_counts().index,\n",
        "             color = sns.color_palette()[1])"
      ]
    },
    {
      "cell_type": "code",
      "execution_count": 12,
      "metadata": {
        "colab": {
          "base_uri": "https://localhost:8080/"
        },
        "id": "TIvu1Mh3CQke",
        "outputId": "47efbbb2-85b1-458e-a635-523656529b45"
      },
      "outputs": [
        {
          "data": {
            "text/plain": [
              "0                                              Atom; Xcode\n",
              "1        Atom; Notepad++; Vim; PyCharm; RubyMine; Visua...\n",
              "2                              Sublime Text; Vim; IntelliJ\n",
              "3        Notepad++; Sublime Text; TextMate; Vim; IPytho...\n",
              "4        Notepad++; Sublime Text; TextMate; Vim; IPytho...\n",
              "                               ...                        \n",
              "51387                          Sublime Text; Visual Studio\n",
              "51388                    Notepad++; Sublime Text; NetBeans\n",
              "51389                    Notepad++; Sublime Text; NetBeans\n",
              "51390                                    Emacs; Vim; Xcode\n",
              "51391                    Notepad++; Eclipse; Visual Studio\n",
              "Name: IDE, Length: 51392, dtype: object"
            ]
          },
          "execution_count": 12,
          "metadata": {},
          "output_type": "execute_result"
        }
      ],
      "source": [
        "df['IDE']"
      ]
    },
    {
      "cell_type": "code",
      "execution_count": 13,
      "metadata": {
        "colab": {
          "base_uri": "https://localhost:8080/"
        },
        "id": "nkU3SdFZPHAJ",
        "outputId": "50e1b2c3-0f90-4327-828f-655db5502457"
      },
      "outputs": [
        {
          "data": {
            "text/plain": [
              "0                                              Atom; Xcode\n",
              "1        Atom; Notepad++; Vim; PyCharm; RubyMine; Visua...\n",
              "2                              Sublime Text; Vim; IntelliJ\n",
              "3        Notepad++; Sublime Text; TextMate; Vim; IPytho...\n",
              "4        Notepad++; Sublime Text; TextMate; Vim; IPytho...\n",
              "                               ...                        \n",
              "51387                          Sublime Text; Visual Studio\n",
              "51388                    Notepad++; Sublime Text; NetBeans\n",
              "51389                    Notepad++; Sublime Text; NetBeans\n",
              "51390                                    Emacs; Vim; Xcode\n",
              "51391                    Notepad++; Eclipse; Visual Studio\n",
              "Name: IDE, Length: 51392, dtype: object"
            ]
          },
          "execution_count": 13,
          "metadata": {},
          "output_type": "execute_result"
        }
      ],
      "source": [
        "df['IDE']"
      ]
    },
    {
      "cell_type": "code",
      "execution_count": 14,
      "metadata": {
        "id": "kjip8WRePL8n"
      },
      "outputs": [],
      "source": [
        "IDE = df[~df['IDE'].isnull()]\n",
        "IDE = IDE['IDE'].apply(lambda x: x.split(\"; \"))"
      ]
    },
    {
      "cell_type": "code",
      "execution_count": 15,
      "metadata": {
        "colab": {
          "base_uri": "https://localhost:8080/"
        },
        "id": "7ONVzF3lPjjC",
        "outputId": "55f7e4c8-b8b6-4cb2-b580-96b6c2e929a5"
      },
      "outputs": [
        {
          "data": {
            "text/plain": [
              "0                                            [Atom, Xcode]\n",
              "1        [Atom, Notepad++, Vim, PyCharm, RubyMine, Visu...\n",
              "2                            [Sublime Text, Vim, IntelliJ]\n",
              "3        [Notepad++, Sublime Text, TextMate, Vim, IPyth...\n",
              "4        [Notepad++, Sublime Text, TextMate, Vim, IPyth...\n",
              "                               ...                        \n",
              "51387                        [Sublime Text, Visual Studio]\n",
              "51388                  [Notepad++, Sublime Text, NetBeans]\n",
              "51389                  [Notepad++, Sublime Text, NetBeans]\n",
              "51390                                  [Emacs, Vim, Xcode]\n",
              "51391                  [Notepad++, Eclipse, Visual Studio]\n",
              "Name: IDE, Length: 51392, dtype: object"
            ]
          },
          "execution_count": 15,
          "metadata": {},
          "output_type": "execute_result"
        }
      ],
      "source": [
        "IDE"
      ]
    },
    {
      "cell_type": "code",
      "execution_count": 16,
      "metadata": {
        "id": "jQ0Gj7NERD0a"
      },
      "outputs": [],
      "source": [
        "IDE = reduce(lambda x,y: x+y, IDE, [])\n",
        "IDECount = Counter(IDE).keys()\n",
        "IDE = Counter(IDE).values()"
      ]
    },
    {
      "cell_type": "code",
      "execution_count": 17,
      "metadata": {
        "id": "j5Wb5MrFS0_u"
      },
      "outputs": [],
      "source": [
        "zip_lst = sorted(zip(list(IDECount), list(IDE)), key=lambda x: x[1], reverse=True) "
      ]
    },
    {
      "cell_type": "code",
      "execution_count": 18,
      "metadata": {
        "colab": {
          "base_uri": "https://localhost:8080/",
          "height": 510
        },
        "id": "XF-FIkU_Vs-r",
        "outputId": "f0020ad8-f996-4656-8973-0f623dc787f2"
      },
      "outputs": [
        {
          "data": {
            "image/png": "[encoded data removed]",
            "text/plain": [
              "<Figure size 1200x480 with 1 Axes>"
            ]
          },
          "metadata": {
            "needs_background": "light"
          },
          "output_type": "display_data"
        }
      ],
      "source": [
        "fig = plt.figure(figsize=(15, 6), dpi=80)\n",
        "ax = fig.add_axes([0,0,1,1])\n",
        "langs, values = zip(*zip_lst)\n",
        "ax.barh(langs[:20],values[:20])\n",
        "plt.show()"
      ]
    },
    {
      "cell_type": "markdown",
      "metadata": {
        "id": "AXdgwwSXYyqd"
      },
      "source": [
        "**Result :**\n",
        "\n",
        "```\n",
        "Visual Studio and Notepad++ are two most popular IDE used by developer\n",
        "```"
      ]
    },
    {
      "cell_type": "markdown",
      "metadata": {
        "id": "M6M_A7_YWTVV"
      },
      "source": [
        "**Highest education of parents**"
      ]
    },
    {
      "cell_type": "code",
      "execution_count": 19,
      "metadata": {
        "colab": {
          "base_uri": "https://localhost:8080/"
        },
        "id": "afygyQ6hV0nq",
        "outputId": "f998ce70-4062-4f09-e9f6-88fe99430641"
      },
      "outputs": [
        {
          "data": {
            "text/plain": [
              "A bachelor's degree                                    14975\n",
              "A master's degree                                      11108\n",
              "High school                                             8648\n",
              "Some college/university study, no bachelor's degree     7022\n",
              "A doctoral degree                                       3021\n",
              "A professional degree                                   2243\n",
              "Primary/elementary school                               2090\n",
              "I don't know/not sure                                   1066\n",
              "I prefer not to answer                                   883\n",
              "No education                                             336\n",
              "Name: HighestEducationParents, dtype: int64"
            ]
          },
          "execution_count": 19,
          "metadata": {},
          "output_type": "execute_result"
        }
      ],
      "source": [
        "parentsEd = df['HighestEducationParents'].value_counts()\n",
        "parentsEd"
      ]
    },
    {
      "cell_type": "code",
      "execution_count": 20,
      "metadata": {
        "id": "4zIXVn-IWiWC"
      },
      "outputs": [],
      "source": [
        "parents_salary_plot = df.groupby(['HighestEducationParents'])['Salary'].mean().sort_values(ascending=True) \n"
      ]
    },
    {
      "cell_type": "code",
      "execution_count": 21,
      "metadata": {
        "colab": {
          "base_uri": "https://localhost:8080/"
        },
        "id": "x7ln7F4Ab7ro",
        "outputId": "4858ac53-80e5-4f38-a800-37c8f58fe55c"
      },
      "outputs": [
        {
          "data": {
            "text/plain": [
              "HighestEducationParents\n",
              "No education                                           45268.636104\n",
              "Primary/elementary school                              45640.145536\n",
              "I prefer not to answer                                 50086.306823\n",
              "High school                                            51993.006757\n",
              "I don't know/not sure                                  53517.560921\n",
              "A bachelor's degree                                    54412.307372\n",
              "A master's degree                                      55299.815070\n",
              "Some college/university study, no bachelor's degree    56272.190542\n",
              "A professional degree                                  57754.050085\n",
              "A doctoral degree                                      59311.885934\n",
              "Name: Salary, dtype: float64"
            ]
          },
          "execution_count": 21,
          "metadata": {},
          "output_type": "execute_result"
        }
      ],
      "source": [
        "parents_salary_plot"
      ]
    },
    {
      "cell_type": "code",
      "execution_count": 22,
      "metadata": {
        "colab": {
          "base_uri": "https://localhost:8080/",
          "height": 89
        },
        "id": "N-AGhu26lZyg",
        "outputId": "a311fd85-7120-4bb3-ada3-4dc164a90c7f"
      },
      "outputs": [
        {
          "data": {
            "text/plain": [
              "<Figure size 1200x480 with 0 Axes>"
            ]
          },
          "metadata": {},
          "output_type": "display_data"
        }
      ],
      "source": [
        "ffig = plt.figure(figsize=(15, 6), dpi=80)\n",
        "ax = fig.add_axes([0,0,1,1])\n",
        "keys = list(parents_salary_plot.keys())\n",
        "values = list(parents_salary_plot.values)\n",
        "ax.barh(keys,values)\n",
        "plt.show()"
      ]
    },
    {
      "cell_type": "code",
      "execution_count": 23,
      "metadata": {
        "colab": {
          "base_uri": "https://localhost:8080/"
        },
        "id": "xs1Pgsc1oPkv",
        "outputId": "cbf40426-6840-41cb-ec2f-3441b3dc4bcd"
      },
      "outputs": [
        {
          "data": {
            "text/plain": [
              "Index(['No education', 'Primary/elementary school', 'I prefer not to answer',\n",
              "       'High school', 'I don't know/not sure', 'A bachelor's degree',\n",
              "       'A master's degree',\n",
              "       'Some college/university study, no bachelor's degree',\n",
              "       'A professional degree', 'A doctoral degree'],\n",
              "      dtype='object', name='HighestEducationParents')"
            ]
          },
          "execution_count": 23,
          "metadata": {},
          "output_type": "execute_result"
        }
      ],
      "source": [
        "parents_salary_plot.keys()"
      ]
    },
    {
      "cell_type": "code",
      "execution_count": 24,
      "metadata": {
        "colab": {
          "base_uri": "https://localhost:8080/"
        },
        "id": "JALZupJem_A0",
        "outputId": "3a260ad4-1d53-45b8-ff75-926754426da3"
      },
      "outputs": [
        {
          "data": {
            "text/plain": [
              "array([45268.63610366, 45640.14553597, 50086.30682337, 51993.00675658,\n",
              "       53517.56092078, 54412.30737234, 55299.81506967, 56272.19054189,\n",
              "       57754.05008529, 59311.88593422])"
            ]
          },
          "execution_count": 24,
          "metadata": {},
          "output_type": "execute_result"
        }
      ],
      "source": [
        "parents_salary_plot.values"
      ]
    },
    {
      "cell_type": "code",
      "execution_count": 25,
      "metadata": {
        "colab": {
          "base_uri": "https://localhost:8080/",
          "height": 278
        },
        "id": "tSJZHa_doTme",
        "outputId": "655d96ef-e379-4953-cdfa-6bd2a775f581"
      },
      "outputs": [
        {
          "name": "stdout",
          "output_type": "stream",
          "text": [
            "Some college/university study, no bachelor's degree\n"
          ]
        },
        {
          "data": {
            "image/png": "[encoded data removed]",
            "text/plain": [
              "<Figure size 2160x360 with 1 Axes>"
            ]
          },
          "metadata": {
            "needs_background": "light"
          },
          "output_type": "display_data"
        }
      ],
      "source": [
        "fig = plt.figure(figsize = (30, 5))\n",
        "print(keys[7])\n",
        "keys[7] =  \"no bachelor's degree\"\n",
        "# creating the bar plot\n",
        "plt.bar(keys, values, color ='maroon',\n",
        "        width = 0.2)\n",
        " \n",
        "plt.xlabel(\"Courses offered\")\n",
        "plt.ylabel(\"Developer salary\")\n",
        "plt.title(\"Highest Education Parents\")\n",
        "plt.show()"
      ]
    },
    {
      "cell_type": "markdown",
      "metadata": {
        "id": "w7KIUSbgZOrF"
      },
      "source": [
        "**Result :**\n",
        "\n",
        "```\n",
        "Nearly the higher parents's highest education, the higher salary of developers.\n",
        "```"
      ]
    },
    {
      "cell_type": "markdown",
      "metadata": {
        "id": "b8gbo_nYcBgA"
      },
      "source": [
        "**Currency**"
      ]
    },
    {
      "cell_type": "code",
      "execution_count": 26,
      "metadata": {
        "colab": {
          "base_uri": "https://localhost:8080/"
        },
        "id": "oTq_ATnhcEB5",
        "outputId": "e0e59259-4a05-4165-b0d2-3803d569c885"
      },
      "outputs": [
        {
          "data": {
            "text/plain": [
              "Currency\n",
              "Australian dollars (A$)        64820.252477\n",
              "Bitcoin (btc)                  56616.236025\n",
              "Brazilian reais (R$)           31924.784415\n",
              "British pounds sterling (£)    50852.315689\n",
              "Canadian dollars (C$)          58683.699394\n",
              "Chinese yuan renminbi (¥)      43760.401970\n",
              "Euros (€)                      44098.356110\n",
              "Indian rupees (?)              33344.512552\n",
              "Japanese yen (¥)               46090.459392\n",
              "Mexican pesos (MXN$)           38663.177640\n",
              "Polish zloty (zl)              31333.892134\n",
              "Russian rubles (?)             31828.304802\n",
              "Singapore dollars (S$)         50907.536298\n",
              "South African rands (R)        37858.422658\n",
              "Swedish kroner (SEK)           49086.695534\n",
              "Swiss francs                   64459.484187\n",
              "U.S. dollars ($)               75021.391557\n",
              "Name: Salary, dtype: float64"
            ]
          },
          "execution_count": 26,
          "metadata": {},
          "output_type": "execute_result"
        }
      ],
      "source": [
        "Currency = df.groupby('Currency')['Salary'].mean()\n",
        "Currency"
      ]
    },
    {
      "cell_type": "code",
      "execution_count": 27,
      "metadata": {
        "colab": {
          "base_uri": "https://localhost:8080/",
          "height": 227
        },
        "id": "3Tp6BkL7cM8S",
        "outputId": "f08f614c-47aa-41a0-8806-8757370cef56"
      },
      "outputs": [
        {
          "data": {
            "image/png": "[encoded data removed]",
            "text/plain": [
              "<Figure size 2520x360 with 1 Axes>"
            ]
          },
          "metadata": {
            "needs_background": "light"
          },
          "output_type": "display_data"
        }
      ],
      "source": [
        "fig = plt.figure(figsize = (35, 5))\n",
        "# creating the bar plot\n",
        "plt.bar(Currency.keys(), Currency.values, color ='maroon',\n",
        "        width = 0.2)\n",
        " \n",
        "plt.xlabel(\"Currency they get\")\n",
        "plt.ylabel(\"Developer salary\")\n",
        "plt.title(\"Currency and salary of developers\")\n",
        "plt.show()"
      ]
    },
    {
      "cell_type": "markdown",
      "metadata": {
        "id": "Y3RLUzIgZi3l"
      },
      "source": [
        "\n",
        "**Result :**\n",
        "\n",
        "```\n",
        "The graph show that the salary is dependent on currency they get.\n",
        "```"
      ]
    }
  ],
  "metadata": {
    "colab": {
      "name": "stackoverflow2017.ipynb",
      "provenance": []
    },
    "kernelspec": {
      "display_name": "Python 3.9.6 64-bit",
      "language": "python",
      "name": "python3"
    },
    "language_info": {
      "codemirror_mode": {
        "name": "ipython",
        "version": 3
      },
      "file_extension": ".py",
      "mimetype": "text/x-python",
      "name": "python",
      "nbconvert_exporter": "python",
      "pygments_lexer": "ipython3",
      "version": "3.9.6"
    },
    "orig_nbformat": 4,
    "vscode": {
      "interpreter": {
        "hash": "8f939dc046ae95b61db57b1ddfb635e5199eac9f7bf30422bfd106b8f44dc254"
      }
    }
  },
  "nbformat": 4,
  "nbformat_minor": 0
}
